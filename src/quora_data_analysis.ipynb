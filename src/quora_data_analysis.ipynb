{
 "cells": [
  {
   "cell_type": "markdown",
   "metadata": {},
   "source": [
    "# Identifying Duplicate Questions: Data Analysis\n",
    "\n",
    "Over 100 million people visit Quora every month, and many people ask similar (or the same) questions. Various questions with the same intent can cause people to spend extra time searching for the best answer to their question, and results in members answering multiple versions of the same question. \n",
    "\n",
    "The goal is to identify whether two questions are duplicates or not (binary classification problem)."
   ]
  },
  {
   "cell_type": "markdown",
   "metadata": {},
   "source": [
    "## 1. Download data \n",
    "\n",
    "Quora dataset contains pairs of questions and labels for each pair (column 'is_duplicate')."
   ]
  },
  {
   "cell_type": "code",
   "execution_count": 1,
   "metadata": {},
   "outputs": [],
   "source": [
    "import pandas as pd\n",
    "import numpy as np\n",
    "\n",
    "import matplotlib.pyplot as plt\n",
    "import seaborn as sns\n",
    "sns.set()"
   ]
  },
  {
   "cell_type": "code",
   "execution_count": 2,
   "metadata": {},
   "outputs": [
    {
     "data": {
      "text/html": [
       "<div>\n",
       "<style scoped>\n",
       "    .dataframe tbody tr th:only-of-type {\n",
       "        vertical-align: middle;\n",
       "    }\n",
       "\n",
       "    .dataframe tbody tr th {\n",
       "        vertical-align: top;\n",
       "    }\n",
       "\n",
       "    .dataframe thead th {\n",
       "        text-align: right;\n",
       "    }\n",
       "</style>\n",
       "<table border=\"1\" class=\"dataframe\">\n",
       "  <thead>\n",
       "    <tr style=\"text-align: right;\">\n",
       "      <th></th>\n",
       "      <th>id</th>\n",
       "      <th>qid1</th>\n",
       "      <th>qid2</th>\n",
       "      <th>question1</th>\n",
       "      <th>question2</th>\n",
       "      <th>is_duplicate</th>\n",
       "    </tr>\n",
       "  </thead>\n",
       "  <tbody>\n",
       "    <tr>\n",
       "      <th>0</th>\n",
       "      <td>0</td>\n",
       "      <td>1</td>\n",
       "      <td>2</td>\n",
       "      <td>What is the step by step guide to invest in sh...</td>\n",
       "      <td>What is the step by step guide to invest in sh...</td>\n",
       "      <td>0</td>\n",
       "    </tr>\n",
       "    <tr>\n",
       "      <th>1</th>\n",
       "      <td>1</td>\n",
       "      <td>3</td>\n",
       "      <td>4</td>\n",
       "      <td>What is the story of Kohinoor (Koh-i-Noor) Dia...</td>\n",
       "      <td>What would happen if the Indian government sto...</td>\n",
       "      <td>0</td>\n",
       "    </tr>\n",
       "    <tr>\n",
       "      <th>2</th>\n",
       "      <td>2</td>\n",
       "      <td>5</td>\n",
       "      <td>6</td>\n",
       "      <td>How can I increase the speed of my internet co...</td>\n",
       "      <td>How can Internet speed be increased by hacking...</td>\n",
       "      <td>0</td>\n",
       "    </tr>\n",
       "    <tr>\n",
       "      <th>3</th>\n",
       "      <td>3</td>\n",
       "      <td>7</td>\n",
       "      <td>8</td>\n",
       "      <td>Why am I mentally very lonely? How can I solve...</td>\n",
       "      <td>Find the remainder when [math]23^{24}[/math] i...</td>\n",
       "      <td>0</td>\n",
       "    </tr>\n",
       "    <tr>\n",
       "      <th>4</th>\n",
       "      <td>4</td>\n",
       "      <td>9</td>\n",
       "      <td>10</td>\n",
       "      <td>Which one dissolve in water quikly sugar, salt...</td>\n",
       "      <td>Which fish would survive in salt water?</td>\n",
       "      <td>0</td>\n",
       "    </tr>\n",
       "  </tbody>\n",
       "</table>\n",
       "</div>"
      ],
      "text/plain": [
       "   id  qid1  qid2                                          question1  \\\n",
       "0   0     1     2  What is the step by step guide to invest in sh...   \n",
       "1   1     3     4  What is the story of Kohinoor (Koh-i-Noor) Dia...   \n",
       "2   2     5     6  How can I increase the speed of my internet co...   \n",
       "3   3     7     8  Why am I mentally very lonely? How can I solve...   \n",
       "4   4     9    10  Which one dissolve in water quikly sugar, salt...   \n",
       "\n",
       "                                           question2  is_duplicate  \n",
       "0  What is the step by step guide to invest in sh...             0  \n",
       "1  What would happen if the Indian government sto...             0  \n",
       "2  How can Internet speed be increased by hacking...             0  \n",
       "3  Find the remainder when [math]23^{24}[/math] i...             0  \n",
       "4            Which fish would survive in salt water?             0  "
      ]
     },
     "execution_count": 2,
     "metadata": {},
     "output_type": "execute_result"
    }
   ],
   "source": [
    "quora = pd.read_csv('../data/quora_train.csv')\n",
    "quora.head()"
   ]
  },
  {
   "cell_type": "markdown",
   "metadata": {},
   "source": [
    "Information about the dataset:"
   ]
  },
  {
   "cell_type": "code",
   "execution_count": 3,
   "metadata": {},
   "outputs": [
    {
     "name": "stdout",
     "output_type": "stream",
     "text": [
      "<class 'pandas.core.frame.DataFrame'>\n",
      "RangeIndex: 404290 entries, 0 to 404289\n",
      "Data columns (total 6 columns):\n",
      " #   Column        Non-Null Count   Dtype \n",
      "---  ------        --------------   ----- \n",
      " 0   id            404290 non-null  int64 \n",
      " 1   qid1          404290 non-null  int64 \n",
      " 2   qid2          404290 non-null  int64 \n",
      " 3   question1     404289 non-null  object\n",
      " 4   question2     404288 non-null  object\n",
      " 5   is_duplicate  404290 non-null  int64 \n",
      "dtypes: int64(4), object(2)\n",
      "memory usage: 18.5+ MB\n"
     ]
    }
   ],
   "source": [
    "quora.info()\n",
    "\n",
    "# Total 404290 data points\n",
    "# There are 1 missing value in 'question1' and 2 missing values in 'question2'"
   ]
  },
  {
   "cell_type": "code",
   "execution_count": 4,
   "metadata": {},
   "outputs": [
    {
     "data": {
      "text/html": [
       "<div>\n",
       "<style scoped>\n",
       "    .dataframe tbody tr th:only-of-type {\n",
       "        vertical-align: middle;\n",
       "    }\n",
       "\n",
       "    .dataframe tbody tr th {\n",
       "        vertical-align: top;\n",
       "    }\n",
       "\n",
       "    .dataframe thead th {\n",
       "        text-align: right;\n",
       "    }\n",
       "</style>\n",
       "<table border=\"1\" class=\"dataframe\">\n",
       "  <thead>\n",
       "    <tr style=\"text-align: right;\">\n",
       "      <th></th>\n",
       "      <th>id</th>\n",
       "      <th>qid1</th>\n",
       "      <th>qid2</th>\n",
       "      <th>question1</th>\n",
       "      <th>question2</th>\n",
       "      <th>is_duplicate</th>\n",
       "    </tr>\n",
       "  </thead>\n",
       "  <tbody>\n",
       "    <tr>\n",
       "      <th>105780</th>\n",
       "      <td>105780</td>\n",
       "      <td>174363</td>\n",
       "      <td>174364</td>\n",
       "      <td>How can I develop android app?</td>\n",
       "      <td>NaN</td>\n",
       "      <td>0</td>\n",
       "    </tr>\n",
       "    <tr>\n",
       "      <th>201841</th>\n",
       "      <td>201841</td>\n",
       "      <td>303951</td>\n",
       "      <td>174364</td>\n",
       "      <td>How can I create an Android app?</td>\n",
       "      <td>NaN</td>\n",
       "      <td>0</td>\n",
       "    </tr>\n",
       "    <tr>\n",
       "      <th>363362</th>\n",
       "      <td>363362</td>\n",
       "      <td>493340</td>\n",
       "      <td>493341</td>\n",
       "      <td>NaN</td>\n",
       "      <td>My Chinese name is Haichao Yu. What English na...</td>\n",
       "      <td>0</td>\n",
       "    </tr>\n",
       "  </tbody>\n",
       "</table>\n",
       "</div>"
      ],
      "text/plain": [
       "            id    qid1    qid2                         question1  \\\n",
       "105780  105780  174363  174364    How can I develop android app?   \n",
       "201841  201841  303951  174364  How can I create an Android app?   \n",
       "363362  363362  493340  493341                               NaN   \n",
       "\n",
       "                                                question2  is_duplicate  \n",
       "105780                                                NaN             0  \n",
       "201841                                                NaN             0  \n",
       "363362  My Chinese name is Haichao Yu. What English na...             0  "
      ]
     },
     "execution_count": 4,
     "metadata": {},
     "output_type": "execute_result"
    }
   ],
   "source": [
    "# Rows with missing values\n",
    "\n",
    "quora[quora['question1'].isnull() | quora['question2'].isnull()]"
   ]
  },
  {
   "cell_type": "code",
   "execution_count": 5,
   "metadata": {},
   "outputs": [
    {
     "name": "stdout",
     "output_type": "stream",
     "text": [
      "<class 'pandas.core.frame.DataFrame'>\n",
      "RangeIndex: 404287 entries, 0 to 404286\n",
      "Data columns (total 6 columns):\n",
      " #   Column        Non-Null Count   Dtype \n",
      "---  ------        --------------   ----- \n",
      " 0   id            404287 non-null  int64 \n",
      " 1   qid1          404287 non-null  int64 \n",
      " 2   qid2          404287 non-null  int64 \n",
      " 3   question1     404287 non-null  object\n",
      " 4   question2     404287 non-null  object\n",
      " 5   is_duplicate  404287 non-null  int64 \n",
      "dtypes: int64(4), object(2)\n",
      "memory usage: 18.5+ MB\n"
     ]
    }
   ],
   "source": [
    "# Drop 3 rows that have nulls, then reset index\n",
    "\n",
    "quora2 = quora.dropna()\n",
    "quora2.reset_index(inplace=True, drop=True)\n",
    "\n",
    "quora2.info()"
   ]
  },
  {
   "cell_type": "markdown",
   "metadata": {},
   "source": [
    "### Target - 'is_duplicate'"
   ]
  },
  {
   "cell_type": "code",
   "execution_count": 6,
   "metadata": {},
   "outputs": [
    {
     "data": {
      "text/plain": [
       "0    0.630799\n",
       "1    0.369201\n",
       "Name: is_duplicate, dtype: float64"
      ]
     },
     "execution_count": 6,
     "metadata": {},
     "output_type": "execute_result"
    }
   ],
   "source": [
    "# Check the proportion of each class in the target variable\n",
    "\n",
    "quora2['is_duplicate'].value_counts(normalize=True)\n",
    "\n",
    "# 63% - non-duplicates, 37% - duplicates"
   ]
  },
  {
   "cell_type": "markdown",
   "metadata": {},
   "source": [
    "## 2. Split the data into the training, validation and test sets"
   ]
  },
  {
   "cell_type": "markdown",
   "metadata": {},
   "source": [
    "Keep the proportions of labels during each split."
   ]
  },
  {
   "cell_type": "code",
   "execution_count": 7,
   "metadata": {},
   "outputs": [],
   "source": [
    "from sklearn.model_selection import train_test_split\n",
    "\n",
    "train_val_set, test_set = train_test_split(quora2, test_size=0.2, stratify=quora2['is_duplicate'], random_state=42)"
   ]
  },
  {
   "cell_type": "code",
   "execution_count": 8,
   "metadata": {},
   "outputs": [
    {
     "name": "stdout",
     "output_type": "stream",
     "text": [
      "(323429, 6)\n",
      "(80858, 6)\n"
     ]
    }
   ],
   "source": [
    "print(train_val_set.shape)\n",
    "print(test_set.shape)"
   ]
  },
  {
   "cell_type": "code",
   "execution_count": 9,
   "metadata": {},
   "outputs": [
    {
     "data": {
      "text/plain": [
       "0    0.6308\n",
       "1    0.3692\n",
       "Name: is_duplicate, dtype: float64"
      ]
     },
     "execution_count": 9,
     "metadata": {},
     "output_type": "execute_result"
    }
   ],
   "source": [
    "train_val_set['is_duplicate'].value_counts(normalize=True)"
   ]
  },
  {
   "cell_type": "code",
   "execution_count": 10,
   "metadata": {},
   "outputs": [
    {
     "data": {
      "text/plain": [
       "0    0.630797\n",
       "1    0.369203\n",
       "Name: is_duplicate, dtype: float64"
      ]
     },
     "execution_count": 10,
     "metadata": {},
     "output_type": "execute_result"
    }
   ],
   "source": [
    "test_set['is_duplicate'].value_counts(normalize=True)"
   ]
  },
  {
   "cell_type": "code",
   "execution_count": 11,
   "metadata": {},
   "outputs": [],
   "source": [
    "# Split train_val_set into training set and validation set\n",
    "\n",
    "train_set, val_set = train_test_split(train_val_set, test_size=0.3, stratify=train_val_set['is_duplicate'], random_state=42)"
   ]
  },
  {
   "cell_type": "code",
   "execution_count": 12,
   "metadata": {},
   "outputs": [
    {
     "name": "stdout",
     "output_type": "stream",
     "text": [
      "(226400, 6)\n",
      "(97029, 6)\n"
     ]
    }
   ],
   "source": [
    "print(train_set.shape)\n",
    "print(val_set.shape)"
   ]
  },
  {
   "cell_type": "markdown",
   "metadata": {},
   "source": [
    "Save 3 sets as csv files:"
   ]
  },
  {
   "cell_type": "code",
   "execution_count": 54,
   "metadata": {},
   "outputs": [],
   "source": [
    "train_set.to_csv('../data/train_set.csv', index=False)"
   ]
  },
  {
   "cell_type": "code",
   "execution_count": 55,
   "metadata": {},
   "outputs": [],
   "source": [
    "val_set.to_csv('../data/val_set.csv', index=False)"
   ]
  },
  {
   "cell_type": "code",
   "execution_count": 56,
   "metadata": {},
   "outputs": [],
   "source": [
    "test_set.to_csv('../data/test_set.csv', index=False)"
   ]
  },
  {
   "cell_type": "markdown",
   "metadata": {},
   "source": [
    "## 3. Data Exploration"
   ]
  },
  {
   "cell_type": "code",
   "execution_count": 13,
   "metadata": {},
   "outputs": [
    {
     "data": {
      "text/html": [
       "<div>\n",
       "<style scoped>\n",
       "    .dataframe tbody tr th:only-of-type {\n",
       "        vertical-align: middle;\n",
       "    }\n",
       "\n",
       "    .dataframe tbody tr th {\n",
       "        vertical-align: top;\n",
       "    }\n",
       "\n",
       "    .dataframe thead th {\n",
       "        text-align: right;\n",
       "    }\n",
       "</style>\n",
       "<table border=\"1\" class=\"dataframe\">\n",
       "  <thead>\n",
       "    <tr style=\"text-align: right;\">\n",
       "      <th></th>\n",
       "      <th>id</th>\n",
       "      <th>qid1</th>\n",
       "      <th>qid2</th>\n",
       "      <th>question1</th>\n",
       "      <th>question2</th>\n",
       "      <th>is_duplicate</th>\n",
       "    </tr>\n",
       "  </thead>\n",
       "  <tbody>\n",
       "    <tr>\n",
       "      <th>319166</th>\n",
       "      <td>319168</td>\n",
       "      <td>444572</td>\n",
       "      <td>444573</td>\n",
       "      <td>How do I determine the resale value of my iPad?</td>\n",
       "      <td>How do I determine the resale value for my home?</td>\n",
       "      <td>0</td>\n",
       "    </tr>\n",
       "    <tr>\n",
       "      <th>289592</th>\n",
       "      <td>289594</td>\n",
       "      <td>410730</td>\n",
       "      <td>410731</td>\n",
       "      <td>What are the best methamatics books for GATE E...</td>\n",
       "      <td>What is the best book for GATE for the ECE Bra...</td>\n",
       "      <td>0</td>\n",
       "    </tr>\n",
       "    <tr>\n",
       "      <th>64114</th>\n",
       "      <td>64114</td>\n",
       "      <td>111466</td>\n",
       "      <td>111467</td>\n",
       "      <td>If the total cost of three books and four pens...</td>\n",
       "      <td>The total cost of three books and four pens is...</td>\n",
       "      <td>1</td>\n",
       "    </tr>\n",
       "    <tr>\n",
       "      <th>322214</th>\n",
       "      <td>322216</td>\n",
       "      <td>220283</td>\n",
       "      <td>448008</td>\n",
       "      <td>What's the best tablet for an Avid PDF reader?</td>\n",
       "      <td>How many pages per day do avid readers read?</td>\n",
       "      <td>0</td>\n",
       "    </tr>\n",
       "    <tr>\n",
       "      <th>315199</th>\n",
       "      <td>315201</td>\n",
       "      <td>140252</td>\n",
       "      <td>394561</td>\n",
       "      <td>Where can I get best assistance in Sydney to g...</td>\n",
       "      <td>Where can I get best assistance for commercial...</td>\n",
       "      <td>1</td>\n",
       "    </tr>\n",
       "  </tbody>\n",
       "</table>\n",
       "</div>"
      ],
      "text/plain": [
       "            id    qid1    qid2  \\\n",
       "319166  319168  444572  444573   \n",
       "289592  289594  410730  410731   \n",
       "64114    64114  111466  111467   \n",
       "322214  322216  220283  448008   \n",
       "315199  315201  140252  394561   \n",
       "\n",
       "                                                question1  \\\n",
       "319166    How do I determine the resale value of my iPad?   \n",
       "289592  What are the best methamatics books for GATE E...   \n",
       "64114   If the total cost of three books and four pens...   \n",
       "322214     What's the best tablet for an Avid PDF reader?   \n",
       "315199  Where can I get best assistance in Sydney to g...   \n",
       "\n",
       "                                                question2  is_duplicate  \n",
       "319166   How do I determine the resale value for my home?             0  \n",
       "289592  What is the best book for GATE for the ECE Bra...             0  \n",
       "64114   The total cost of three books and four pens is...             1  \n",
       "322214       How many pages per day do avid readers read?             0  \n",
       "315199  Where can I get best assistance for commercial...             1  "
      ]
     },
     "execution_count": 13,
     "metadata": {},
     "output_type": "execute_result"
    }
   ],
   "source": [
    "train_set.head()"
   ]
  },
  {
   "cell_type": "code",
   "execution_count": 14,
   "metadata": {},
   "outputs": [
    {
     "name": "stdout",
     "output_type": "stream",
     "text": [
      "<class 'pandas.core.frame.DataFrame'>\n",
      "Int64Index: 226400 entries, 319166 to 323364\n",
      "Data columns (total 6 columns):\n",
      " #   Column        Non-Null Count   Dtype \n",
      "---  ------        --------------   ----- \n",
      " 0   id            226400 non-null  int64 \n",
      " 1   qid1          226400 non-null  int64 \n",
      " 2   qid2          226400 non-null  int64 \n",
      " 3   question1     226400 non-null  object\n",
      " 4   question2     226400 non-null  object\n",
      " 5   is_duplicate  226400 non-null  int64 \n",
      "dtypes: int64(4), object(2)\n",
      "memory usage: 12.1+ MB\n"
     ]
    }
   ],
   "source": [
    "train_set.info()"
   ]
  },
  {
   "cell_type": "markdown",
   "metadata": {},
   "source": [
    "### Number of characters in questions"
   ]
  },
  {
   "cell_type": "code",
   "execution_count": 16,
   "metadata": {},
   "outputs": [
    {
     "data": {
      "text/html": [
       "<div>\n",
       "<style scoped>\n",
       "    .dataframe tbody tr th:only-of-type {\n",
       "        vertical-align: middle;\n",
       "    }\n",
       "\n",
       "    .dataframe tbody tr th {\n",
       "        vertical-align: top;\n",
       "    }\n",
       "\n",
       "    .dataframe thead th {\n",
       "        text-align: right;\n",
       "    }\n",
       "</style>\n",
       "<table border=\"1\" class=\"dataframe\">\n",
       "  <thead>\n",
       "    <tr style=\"text-align: right;\">\n",
       "      <th></th>\n",
       "      <th>id</th>\n",
       "      <th>qid1</th>\n",
       "      <th>qid2</th>\n",
       "      <th>question1</th>\n",
       "      <th>question2</th>\n",
       "      <th>is_duplicate</th>\n",
       "      <th>num_chars_q1</th>\n",
       "      <th>num_chars_q2</th>\n",
       "    </tr>\n",
       "  </thead>\n",
       "  <tbody>\n",
       "    <tr>\n",
       "      <th>319166</th>\n",
       "      <td>319168</td>\n",
       "      <td>444572</td>\n",
       "      <td>444573</td>\n",
       "      <td>How do I determine the resale value of my iPad?</td>\n",
       "      <td>How do I determine the resale value for my home?</td>\n",
       "      <td>0</td>\n",
       "      <td>47</td>\n",
       "      <td>48</td>\n",
       "    </tr>\n",
       "    <tr>\n",
       "      <th>289592</th>\n",
       "      <td>289594</td>\n",
       "      <td>410730</td>\n",
       "      <td>410731</td>\n",
       "      <td>What are the best methamatics books for GATE E...</td>\n",
       "      <td>What is the best book for GATE for the ECE Bra...</td>\n",
       "      <td>0</td>\n",
       "      <td>56</td>\n",
       "      <td>50</td>\n",
       "    </tr>\n",
       "    <tr>\n",
       "      <th>64114</th>\n",
       "      <td>64114</td>\n",
       "      <td>111466</td>\n",
       "      <td>111467</td>\n",
       "      <td>If the total cost of three books and four pens...</td>\n",
       "      <td>The total cost of three books and four pens is...</td>\n",
       "      <td>1</td>\n",
       "      <td>139</td>\n",
       "      <td>130</td>\n",
       "    </tr>\n",
       "    <tr>\n",
       "      <th>322214</th>\n",
       "      <td>322216</td>\n",
       "      <td>220283</td>\n",
       "      <td>448008</td>\n",
       "      <td>What's the best tablet for an Avid PDF reader?</td>\n",
       "      <td>How many pages per day do avid readers read?</td>\n",
       "      <td>0</td>\n",
       "      <td>46</td>\n",
       "      <td>44</td>\n",
       "    </tr>\n",
       "    <tr>\n",
       "      <th>315199</th>\n",
       "      <td>315201</td>\n",
       "      <td>140252</td>\n",
       "      <td>394561</td>\n",
       "      <td>Where can I get best assistance in Sydney to g...</td>\n",
       "      <td>Where can I get best assistance for commercial...</td>\n",
       "      <td>1</td>\n",
       "      <td>86</td>\n",
       "      <td>80</td>\n",
       "    </tr>\n",
       "  </tbody>\n",
       "</table>\n",
       "</div>"
      ],
      "text/plain": [
       "            id    qid1    qid2  \\\n",
       "319166  319168  444572  444573   \n",
       "289592  289594  410730  410731   \n",
       "64114    64114  111466  111467   \n",
       "322214  322216  220283  448008   \n",
       "315199  315201  140252  394561   \n",
       "\n",
       "                                                question1  \\\n",
       "319166    How do I determine the resale value of my iPad?   \n",
       "289592  What are the best methamatics books for GATE E...   \n",
       "64114   If the total cost of three books and four pens...   \n",
       "322214     What's the best tablet for an Avid PDF reader?   \n",
       "315199  Where can I get best assistance in Sydney to g...   \n",
       "\n",
       "                                                question2  is_duplicate  \\\n",
       "319166   How do I determine the resale value for my home?             0   \n",
       "289592  What is the best book for GATE for the ECE Bra...             0   \n",
       "64114   The total cost of three books and four pens is...             1   \n",
       "322214       How many pages per day do avid readers read?             0   \n",
       "315199  Where can I get best assistance for commercial...             1   \n",
       "\n",
       "        num_chars_q1  num_chars_q2  \n",
       "319166            47            48  \n",
       "289592            56            50  \n",
       "64114            139           130  \n",
       "322214            46            44  \n",
       "315199            86            80  "
      ]
     },
     "execution_count": 16,
     "metadata": {},
     "output_type": "execute_result"
    }
   ],
   "source": [
    "# Create new columns with string length for question 1 and question 2\n",
    "\n",
    "train_set['num_chars_q1'] = train_set['question1'].str.len()\n",
    "train_set['num_chars_q2'] = train_set['question2'].str.len()\n",
    "train_set.head()"
   ]
  },
  {
   "cell_type": "markdown",
   "metadata": {},
   "source": [
    "#### Check value counts and plot histograms for new columns.\n",
    "\n",
    "Question 1:"
   ]
  },
  {
   "cell_type": "code",
   "execution_count": 19,
   "metadata": {},
   "outputs": [
    {
     "data": {
      "text/plain": [
       "42     4803\n",
       "44     4759\n",
       "43     4700\n",
       "45     4688\n",
       "38     4584\n",
       "       ... \n",
       "289       1\n",
       "623       1\n",
       "294       1\n",
       "282       1\n",
       "281       1\n",
       "Name: num_chars_q1, Length: 311, dtype: int64"
      ]
     },
     "execution_count": 19,
     "metadata": {},
     "output_type": "execute_result"
    }
   ],
   "source": [
    "train_set['num_chars_q1'].value_counts()"
   ]
  },
  {
   "cell_type": "code",
   "execution_count": 20,
   "metadata": {},
   "outputs": [
    {
     "data": {
      "image/png": "[encoded data removed]",
      "text/plain": [
       "<Figure size 360x360 with 1 Axes>"
      ]
     },
     "metadata": {},
     "output_type": "display_data"
    }
   ],
   "source": [
    "sns.displot(train_set['num_chars_q1'], bins=200);"
   ]
  },
  {
   "cell_type": "markdown",
   "metadata": {},
   "source": [
    "Question 2:"
   ]
  },
  {
   "cell_type": "code",
   "execution_count": 21,
   "metadata": {},
   "outputs": [
    {
     "data": {
      "text/plain": [
       "44     5309\n",
       "43     5167\n",
       "42     4980\n",
       "40     4867\n",
       "46     4810\n",
       "       ... \n",
       "506       1\n",
       "8         1\n",
       "407       1\n",
       "269       1\n",
       "519       1\n",
       "Name: num_chars_q2, Length: 354, dtype: int64"
      ]
     },
     "execution_count": 21,
     "metadata": {},
     "output_type": "execute_result"
    }
   ],
   "source": [
    "train_set['num_chars_q2'].value_counts()"
   ]
  },
  {
   "cell_type": "code",
   "execution_count": 22,
   "metadata": {},
   "outputs": [
    {
     "data": {
      "image/png": "[encoded data removed]",
      "text/plain": [
       "<Figure size 360x360 with 1 Axes>"
      ]
     },
     "metadata": {},
     "output_type": "display_data"
    }
   ],
   "source": [
    "sns.displot(train_set['num_chars_q2'], bins=200);"
   ]
  },
  {
   "cell_type": "markdown",
   "metadata": {},
   "source": [
    "Most questions in both columns have less than 200 characters."
   ]
  },
  {
   "cell_type": "markdown",
   "metadata": {},
   "source": [
    "#### For all questions: unique values of string length"
   ]
  },
  {
   "cell_type": "code",
   "execution_count": 24,
   "metadata": {},
   "outputs": [
    {
     "name": "stdout",
     "output_type": "stream",
     "text": [
      "Min number of characters: 1\n",
      "Max number of characters: 1169\n",
      "Average number of characters: 195\n"
     ]
    }
   ],
   "source": [
    "num_chars_unique = set(train_set['num_chars_q1'].unique()) | set(train_set['num_chars_q2'].unique())\n",
    "\n",
    "print('Min number of characters:', min(num_chars_unique))\n",
    "print('Max number of characters:', max(num_chars_unique))\n",
    "print('Average number of characters:', round(np.mean(list(num_chars_unique))))"
   ]
  },
  {
   "cell_type": "code",
   "execution_count": 25,
   "metadata": {},
   "outputs": [
    {
     "data": {
      "text/html": [
       "<div>\n",
       "<style scoped>\n",
       "    .dataframe tbody tr th:only-of-type {\n",
       "        vertical-align: middle;\n",
       "    }\n",
       "\n",
       "    .dataframe tbody tr th {\n",
       "        vertical-align: top;\n",
       "    }\n",
       "\n",
       "    .dataframe thead th {\n",
       "        text-align: right;\n",
       "    }\n",
       "</style>\n",
       "<table border=\"1\" class=\"dataframe\">\n",
       "  <thead>\n",
       "    <tr style=\"text-align: right;\">\n",
       "      <th></th>\n",
       "      <th>id</th>\n",
       "      <th>qid1</th>\n",
       "      <th>qid2</th>\n",
       "      <th>question1</th>\n",
       "      <th>question2</th>\n",
       "      <th>is_duplicate</th>\n",
       "      <th>num_chars_q1</th>\n",
       "      <th>num_chars_q2</th>\n",
       "    </tr>\n",
       "  </thead>\n",
       "  <tbody>\n",
       "    <tr>\n",
       "      <th>216859</th>\n",
       "      <td>216861</td>\n",
       "      <td>323090</td>\n",
       "      <td>17986</td>\n",
       "      <td>Aaas</td>\n",
       "      <td>My dad always yells at me and causes me anxiet...</td>\n",
       "      <td>0</td>\n",
       "      <td>4</td>\n",
       "      <td>67</td>\n",
       "    </tr>\n",
       "    <tr>\n",
       "      <th>86457</th>\n",
       "      <td>86457</td>\n",
       "      <td>145814</td>\n",
       "      <td>81121</td>\n",
       "      <td>Is?</td>\n",
       "      <td>Does mother/son incest happen in India?</td>\n",
       "      <td>0</td>\n",
       "      <td>3</td>\n",
       "      <td>39</td>\n",
       "    </tr>\n",
       "    <tr>\n",
       "      <th>208483</th>\n",
       "      <td>208485</td>\n",
       "      <td>312495</td>\n",
       "      <td>312496</td>\n",
       "      <td>?</td>\n",
       "      <td>Given that PACER makes money from usage, why d...</td>\n",
       "      <td>0</td>\n",
       "      <td>1</td>\n",
       "      <td>101</td>\n",
       "    </tr>\n",
       "    <tr>\n",
       "      <th>273063</th>\n",
       "      <td>273065</td>\n",
       "      <td>391451</td>\n",
       "      <td>380455</td>\n",
       "      <td>?</td>\n",
       "      <td>How can I describe Quora, in all its glory, to...</td>\n",
       "      <td>0</td>\n",
       "      <td>1</td>\n",
       "      <td>55</td>\n",
       "    </tr>\n",
       "    <tr>\n",
       "      <th>54029</th>\n",
       "      <td>54029</td>\n",
       "      <td>95429</td>\n",
       "      <td>95430</td>\n",
       "      <td>I'm</td>\n",
       "      <td>I am a 39 year old single woman. Should I have...</td>\n",
       "      <td>0</td>\n",
       "      <td>4</td>\n",
       "      <td>60</td>\n",
       "    </tr>\n",
       "    <tr>\n",
       "      <th>328599</th>\n",
       "      <td>328601</td>\n",
       "      <td>451788</td>\n",
       "      <td>455166</td>\n",
       "      <td>My</td>\n",
       "      <td>My father has many new technologies with him (...</td>\n",
       "      <td>0</td>\n",
       "      <td>2</td>\n",
       "      <td>122</td>\n",
       "    </tr>\n",
       "    <tr>\n",
       "      <th>402420</th>\n",
       "      <td>402423</td>\n",
       "      <td>535899</td>\n",
       "      <td>119568</td>\n",
       "      <td>?</td>\n",
       "      <td>What is cisco router technical support phone n...</td>\n",
       "      <td>0</td>\n",
       "      <td>1</td>\n",
       "      <td>52</td>\n",
       "    </tr>\n",
       "    <tr>\n",
       "      <th>175583</th>\n",
       "      <td>175584</td>\n",
       "      <td>95429</td>\n",
       "      <td>110024</td>\n",
       "      <td>I'm</td>\n",
       "      <td>I am 25 yrs old and I am still virgin. How can...</td>\n",
       "      <td>0</td>\n",
       "      <td>4</td>\n",
       "      <td>66</td>\n",
       "    </tr>\n",
       "    <tr>\n",
       "      <th>72844</th>\n",
       "      <td>72844</td>\n",
       "      <td>125092</td>\n",
       "      <td>125093</td>\n",
       "      <td>lol ?</td>\n",
       "      <td>What is League of Legends?</td>\n",
       "      <td>0</td>\n",
       "      <td>5</td>\n",
       "      <td>26</td>\n",
       "    </tr>\n",
       "    <tr>\n",
       "      <th>63712</th>\n",
       "      <td>63712</td>\n",
       "      <td>83329</td>\n",
       "      <td>110823</td>\n",
       "      <td>What?</td>\n",
       "      <td>What is the average processing time for a spou...</td>\n",
       "      <td>0</td>\n",
       "      <td>5</td>\n",
       "      <td>84</td>\n",
       "    </tr>\n",
       "  </tbody>\n",
       "</table>\n",
       "</div>"
      ],
      "text/plain": [
       "            id    qid1    qid2 question1  \\\n",
       "216859  216861  323090   17986      Aaas   \n",
       "86457    86457  145814   81121       Is?   \n",
       "208483  208485  312495  312496         ?   \n",
       "273063  273065  391451  380455         ?   \n",
       "54029    54029   95429   95430      I'm    \n",
       "328599  328601  451788  455166        My   \n",
       "402420  402423  535899  119568         ?   \n",
       "175583  175584   95429  110024      I'm    \n",
       "72844    72844  125092  125093     lol ?   \n",
       "63712    63712   83329  110823     What?   \n",
       "\n",
       "                                                question2  is_duplicate  \\\n",
       "216859  My dad always yells at me and causes me anxiet...             0   \n",
       "86457             Does mother/son incest happen in India?             0   \n",
       "208483  Given that PACER makes money from usage, why d...             0   \n",
       "273063  How can I describe Quora, in all its glory, to...             0   \n",
       "54029   I am a 39 year old single woman. Should I have...             0   \n",
       "328599  My father has many new technologies with him (...             0   \n",
       "402420  What is cisco router technical support phone n...             0   \n",
       "175583  I am 25 yrs old and I am still virgin. How can...             0   \n",
       "72844                          What is League of Legends?             0   \n",
       "63712   What is the average processing time for a spou...             0   \n",
       "\n",
       "        num_chars_q1  num_chars_q2  \n",
       "216859             4            67  \n",
       "86457              3            39  \n",
       "208483             1           101  \n",
       "273063             1            55  \n",
       "54029              4            60  \n",
       "328599             2           122  \n",
       "402420             1            52  \n",
       "175583             4            66  \n",
       "72844              5            26  \n",
       "63712              5            84  "
      ]
     },
     "execution_count": 25,
     "metadata": {},
     "output_type": "execute_result"
    }
   ],
   "source": [
    "# Examples of question 1 with <= 5 characters\n",
    "\n",
    "train_set[train_set['num_chars_q1'].isin([1, 2, 3, 4, 5])].head(10)"
   ]
  },
  {
   "cell_type": "markdown",
   "metadata": {},
   "source": [
    "### Number of words in questions"
   ]
  },
  {
   "cell_type": "code",
   "execution_count": 26,
   "metadata": {},
   "outputs": [
    {
     "name": "stderr",
     "output_type": "stream",
     "text": [
      "C:\\Users\\ZLATA\\anaconda3\\envs\\bootcamp_env\\lib\\site-packages\\gensim\\similarities\\__init__.py:15: UserWarning: The gensim.similarities.levenshtein submodule is disabled, because the optional Levenshtein package <https://pypi.org/project/python-Levenshtein/> is unavailable. Install Levenhstein (e.g. `pip install python-Levenshtein`) to suppress this warning.\n",
      "  warnings.warn(msg)\n"
     ]
    }
   ],
   "source": [
    "# Function to calculate the number of words in a string\n",
    "# Using gensim library to convert a document into a list of lowercased words,\n",
    "# punctuation is being removed during preprocessing\n",
    "\n",
    "\n",
    "import gensim\n",
    "\n",
    "def count_words(doc):\n",
    "    words = gensim.utils.simple_preprocess(doc, min_len=1, max_len=20)\n",
    "    return len(words)"
   ]
  },
  {
   "cell_type": "code",
   "execution_count": 27,
   "metadata": {},
   "outputs": [
    {
     "data": {
      "text/html": [
       "<div>\n",
       "<style scoped>\n",
       "    .dataframe tbody tr th:only-of-type {\n",
       "        vertical-align: middle;\n",
       "    }\n",
       "\n",
       "    .dataframe tbody tr th {\n",
       "        vertical-align: top;\n",
       "    }\n",
       "\n",
       "    .dataframe thead th {\n",
       "        text-align: right;\n",
       "    }\n",
       "</style>\n",
       "<table border=\"1\" class=\"dataframe\">\n",
       "  <thead>\n",
       "    <tr style=\"text-align: right;\">\n",
       "      <th></th>\n",
       "      <th>id</th>\n",
       "      <th>qid1</th>\n",
       "      <th>qid2</th>\n",
       "      <th>question1</th>\n",
       "      <th>question2</th>\n",
       "      <th>is_duplicate</th>\n",
       "      <th>num_chars_q1</th>\n",
       "      <th>num_chars_q2</th>\n",
       "      <th>num_words_q1</th>\n",
       "      <th>num_words_q2</th>\n",
       "    </tr>\n",
       "  </thead>\n",
       "  <tbody>\n",
       "    <tr>\n",
       "      <th>319166</th>\n",
       "      <td>319168</td>\n",
       "      <td>444572</td>\n",
       "      <td>444573</td>\n",
       "      <td>How do I determine the resale value of my iPad?</td>\n",
       "      <td>How do I determine the resale value for my home?</td>\n",
       "      <td>0</td>\n",
       "      <td>47</td>\n",
       "      <td>48</td>\n",
       "      <td>10</td>\n",
       "      <td>10</td>\n",
       "    </tr>\n",
       "    <tr>\n",
       "      <th>289592</th>\n",
       "      <td>289594</td>\n",
       "      <td>410730</td>\n",
       "      <td>410731</td>\n",
       "      <td>What are the best methamatics books for GATE E...</td>\n",
       "      <td>What is the best book for GATE for the ECE Bra...</td>\n",
       "      <td>0</td>\n",
       "      <td>56</td>\n",
       "      <td>50</td>\n",
       "      <td>10</td>\n",
       "      <td>11</td>\n",
       "    </tr>\n",
       "    <tr>\n",
       "      <th>64114</th>\n",
       "      <td>64114</td>\n",
       "      <td>111466</td>\n",
       "      <td>111467</td>\n",
       "      <td>If the total cost of three books and four pens...</td>\n",
       "      <td>The total cost of three books and four pens is...</td>\n",
       "      <td>1</td>\n",
       "      <td>139</td>\n",
       "      <td>130</td>\n",
       "      <td>32</td>\n",
       "      <td>30</td>\n",
       "    </tr>\n",
       "    <tr>\n",
       "      <th>322214</th>\n",
       "      <td>322216</td>\n",
       "      <td>220283</td>\n",
       "      <td>448008</td>\n",
       "      <td>What's the best tablet for an Avid PDF reader?</td>\n",
       "      <td>How many pages per day do avid readers read?</td>\n",
       "      <td>0</td>\n",
       "      <td>46</td>\n",
       "      <td>44</td>\n",
       "      <td>10</td>\n",
       "      <td>9</td>\n",
       "    </tr>\n",
       "    <tr>\n",
       "      <th>315199</th>\n",
       "      <td>315201</td>\n",
       "      <td>140252</td>\n",
       "      <td>394561</td>\n",
       "      <td>Where can I get best assistance in Sydney to g...</td>\n",
       "      <td>Where can I get best assistance for commercial...</td>\n",
       "      <td>1</td>\n",
       "      <td>86</td>\n",
       "      <td>80</td>\n",
       "      <td>15</td>\n",
       "      <td>14</td>\n",
       "    </tr>\n",
       "  </tbody>\n",
       "</table>\n",
       "</div>"
      ],
      "text/plain": [
       "            id    qid1    qid2  \\\n",
       "319166  319168  444572  444573   \n",
       "289592  289594  410730  410731   \n",
       "64114    64114  111466  111467   \n",
       "322214  322216  220283  448008   \n",
       "315199  315201  140252  394561   \n",
       "\n",
       "                                                question1  \\\n",
       "319166    How do I determine the resale value of my iPad?   \n",
       "289592  What are the best methamatics books for GATE E...   \n",
       "64114   If the total cost of three books and four pens...   \n",
       "322214     What's the best tablet for an Avid PDF reader?   \n",
       "315199  Where can I get best assistance in Sydney to g...   \n",
       "\n",
       "                                                question2  is_duplicate  \\\n",
       "319166   How do I determine the resale value for my home?             0   \n",
       "289592  What is the best book for GATE for the ECE Bra...             0   \n",
       "64114   The total cost of three books and four pens is...             1   \n",
       "322214       How many pages per day do avid readers read?             0   \n",
       "315199  Where can I get best assistance for commercial...             1   \n",
       "\n",
       "        num_chars_q1  num_chars_q2  num_words_q1  num_words_q2  \n",
       "319166            47            48            10            10  \n",
       "289592            56            50            10            11  \n",
       "64114            139           130            32            30  \n",
       "322214            46            44            10             9  \n",
       "315199            86            80            15            14  "
      ]
     },
     "execution_count": 27,
     "metadata": {},
     "output_type": "execute_result"
    }
   ],
   "source": [
    "# Add new columns with number of words for question 1 and question 2\n",
    "\n",
    "train_set['num_words_q1'] = train_set['question1'].map(lambda x: count_words(x))\n",
    "train_set['num_words_q2'] = train_set['question2'].map(lambda x: count_words(x))\n",
    "train_set.head()"
   ]
  },
  {
   "cell_type": "markdown",
   "metadata": {},
   "source": [
    "#### For all questions: find unique values of number of words in a question"
   ]
  },
  {
   "cell_type": "code",
   "execution_count": 28,
   "metadata": {},
   "outputs": [
    {
     "name": "stdout",
     "output_type": "stream",
     "text": [
      "Min number of words: 0\n",
      "Max number of words: 245\n",
      "Average number of words: 51\n"
     ]
    }
   ],
   "source": [
    "num_words_unique = set(train_set['num_words_q1'].unique()) | set(train_set['num_words_q2'].unique())\n",
    "\n",
    "print('Min number of words:', min(num_words_unique))\n",
    "print('Max number of words:', max(num_words_unique))\n",
    "print('Average number of words:', round(np.mean(list(num_words_unique))))"
   ]
  },
  {
   "cell_type": "markdown",
   "metadata": {},
   "source": [
    "### Column 'qid1' - id for Question 1"
   ]
  },
  {
   "cell_type": "code",
   "execution_count": 29,
   "metadata": {},
   "outputs": [
    {
     "data": {
      "text/plain": [
       "179038"
      ]
     },
     "execution_count": 29,
     "metadata": {},
     "output_type": "execute_result"
    }
   ],
   "source": [
    "# Number of unique questions (question 1)\n",
    "\n",
    "len(train_set['qid1'].unique())"
   ]
  },
  {
   "cell_type": "markdown",
   "metadata": {},
   "source": [
    "How often the same question id occurs in this column:"
   ]
  },
  {
   "cell_type": "code",
   "execution_count": 30,
   "metadata": {},
   "outputs": [
    {
     "data": {
      "text/plain": [
       "25984    30\n",
       "1749     30\n",
       "14110    30\n",
       "8461     28\n",
       "20628    28\n",
       "         ..\n",
       "2929     16\n",
       "7016     16\n",
       "8154     16\n",
       "35003    15\n",
       "25851    15\n",
       "Name: qid1, Length: 100, dtype: int64"
      ]
     },
     "execution_count": 30,
     "metadata": {},
     "output_type": "execute_result"
    }
   ],
   "source": [
    "train_set['qid1'].value_counts()[:100]"
   ]
  },
  {
   "cell_type": "code",
   "execution_count": 31,
   "metadata": {},
   "outputs": [
    {
     "data": {
      "text/plain": [
       "59829     1\n",
       "186086    1\n",
       "175816    1\n",
       "530037    1\n",
       "361696    1\n",
       "         ..\n",
       "464473    1\n",
       "356994    1\n",
       "122411    1\n",
       "229279    1\n",
       "6085      1\n",
       "Name: qid1, Length: 100, dtype: int64"
      ]
     },
     "execution_count": 31,
     "metadata": {},
     "output_type": "execute_result"
    }
   ],
   "source": [
    "train_set['qid1'].value_counts()[-100:]"
   ]
  },
  {
   "cell_type": "code",
   "execution_count": 32,
   "metadata": {},
   "outputs": [
    {
     "data": {
      "text/plain": [
       "153280"
      ]
     },
     "execution_count": 32,
     "metadata": {},
     "output_type": "execute_result"
    }
   ],
   "source": [
    "# Number of questions that occur once in this column\n",
    "\n",
    "(train_set['qid1'].value_counts() == 1).sum()"
   ]
  },
  {
   "cell_type": "code",
   "execution_count": 33,
   "metadata": {},
   "outputs": [
    {
     "data": {
      "text/plain": [
       "178580"
      ]
     },
     "execution_count": 33,
     "metadata": {},
     "output_type": "execute_result"
    }
   ],
   "source": [
    "# Number of questions that occur < 10 times in this column (almost all questions)\n",
    "\n",
    "(train_set['qid1'].value_counts() < 10).sum()"
   ]
  },
  {
   "cell_type": "code",
   "execution_count": 34,
   "metadata": {},
   "outputs": [
    {
     "data": {
      "text/plain": [
       "<AxesSubplot:>"
      ]
     },
     "execution_count": 34,
     "metadata": {},
     "output_type": "execute_result"
    },
    {
     "data": {
      "image/png": "[encoded data removed]",
      "text/plain": [
       "<Figure size 432x288 with 1 Axes>"
      ]
     },
     "metadata": {},
     "output_type": "display_data"
    }
   ],
   "source": [
    "train_set['qid1'].value_counts().hist(bins=150)\n",
    "\n",
    "# majority of questions occurs once or a few times as a question 1"
   ]
  },
  {
   "cell_type": "markdown",
   "metadata": {},
   "source": [
    "### Column 'qid2' - id for Question 2"
   ]
  },
  {
   "cell_type": "code",
   "execution_count": 36,
   "metadata": {},
   "outputs": [
    {
     "data": {
      "text/plain": [
       "181817"
      ]
     },
     "execution_count": 36,
     "metadata": {},
     "output_type": "execute_result"
    }
   ],
   "source": [
    "# Number of unique questions (question 2)\n",
    "\n",
    "len(train_set['qid2'].unique())"
   ]
  },
  {
   "cell_type": "markdown",
   "metadata": {},
   "source": [
    "How often the same question id occurs in this column:"
   ]
  },
  {
   "cell_type": "code",
   "execution_count": 37,
   "metadata": {},
   "outputs": [
    {
     "data": {
      "text/plain": [
       "2559      67\n",
       "30782     67\n",
       "4044      47\n",
       "2561      36\n",
       "28764     34\n",
       "          ..\n",
       "49476      1\n",
       "501821     1\n",
       "528263     1\n",
       "133545     1\n",
       "449315     1\n",
       "Name: qid2, Length: 181817, dtype: int64"
      ]
     },
     "execution_count": 37,
     "metadata": {},
     "output_type": "execute_result"
    }
   ],
   "source": [
    "train_set['qid2'].value_counts()"
   ]
  },
  {
   "cell_type": "code",
   "execution_count": 38,
   "metadata": {},
   "outputs": [
    {
     "data": {
      "text/plain": [
       "159709"
      ]
     },
     "execution_count": 38,
     "metadata": {},
     "output_type": "execute_result"
    }
   ],
   "source": [
    "(train_set['qid2'].value_counts() == 1).sum()"
   ]
  },
  {
   "cell_type": "code",
   "execution_count": 39,
   "metadata": {},
   "outputs": [
    {
     "data": {
      "text/plain": [
       "181262"
      ]
     },
     "execution_count": 39,
     "metadata": {},
     "output_type": "execute_result"
    }
   ],
   "source": [
    "(train_set['qid2'].value_counts() < 10).sum()"
   ]
  },
  {
   "cell_type": "code",
   "execution_count": 40,
   "metadata": {},
   "outputs": [
    {
     "data": {
      "text/plain": [
       "<AxesSubplot:>"
      ]
     },
     "execution_count": 40,
     "metadata": {},
     "output_type": "execute_result"
    },
    {
     "data": {
      "image/png": "[encoded data removed]",
      "text/plain": [
       "<Figure size 432x288 with 1 Axes>"
      ]
     },
     "metadata": {},
     "output_type": "display_data"
    }
   ],
   "source": [
    "train_set['qid2'].value_counts().hist(bins=150)\n",
    "\n",
    "# majority of questions occurs once or a few times as a question 2"
   ]
  },
  {
   "cell_type": "markdown",
   "metadata": {},
   "source": [
    "### All questions"
   ]
  },
  {
   "cell_type": "code",
   "execution_count": 41,
   "metadata": {},
   "outputs": [
    {
     "data": {
      "text/plain": [
       "0         444572\n",
       "1         410730\n",
       "2         111466\n",
       "3         220283\n",
       "4         140252\n",
       "           ...  \n",
       "452795    511872\n",
       "452796    533238\n",
       "452797     68211\n",
       "452798      6086\n",
       "452799    449315\n",
       "Length: 452800, dtype: int64"
      ]
     },
     "execution_count": 41,
     "metadata": {},
     "output_type": "execute_result"
    }
   ],
   "source": [
    "# Concatenate question ids from 'qid1' and 'quid2'\n",
    "\n",
    "questions = pd.concat([train_set['qid1'], train_set['qid2']], ignore_index=True)\n",
    "questions"
   ]
  },
  {
   "cell_type": "code",
   "execution_count": 42,
   "metadata": {},
   "outputs": [
    {
     "data": {
      "text/plain": [
       "335954"
      ]
     },
     "execution_count": 42,
     "metadata": {},
     "output_type": "execute_result"
    }
   ],
   "source": [
    "# Total number of unique questions in 'qid1' and 'quid2'\n",
    "\n",
    "len(questions.unique())"
   ]
  },
  {
   "cell_type": "code",
   "execution_count": 43,
   "metadata": {},
   "outputs": [
    {
     "data": {
      "text/plain": [
       "24901"
      ]
     },
     "execution_count": 43,
     "metadata": {},
     "output_type": "execute_result"
    }
   ],
   "source": [
    "# Number of questions that appear in both columns\n",
    "\n",
    "intersection_q1_q2 = set(train_set['qid1'].unique()) & set(train_set['qid2'].unique())\n",
    "len(intersection_q1_q2)"
   ]
  },
  {
   "cell_type": "code",
   "execution_count": 44,
   "metadata": {},
   "outputs": [
    {
     "data": {
      "text/plain": [
       "2559      91\n",
       "30782     67\n",
       "4044      56\n",
       "14376     45\n",
       "2561      45\n",
       "          ..\n",
       "69858      1\n",
       "401556     1\n",
       "336693     1\n",
       "277610     1\n",
       "449315     1\n",
       "Length: 335954, dtype: int64"
      ]
     },
     "execution_count": 44,
     "metadata": {},
     "output_type": "execute_result"
    }
   ],
   "source": [
    "questions.value_counts()"
   ]
  },
  {
   "cell_type": "markdown",
   "metadata": {},
   "source": [
    "### Examples of questions that occur more often in the dataset:\n",
    "\n",
    "Question #1 (91 occurrences)"
   ]
  },
  {
   "cell_type": "code",
   "execution_count": 45,
   "metadata": {},
   "outputs": [
    {
     "data": {
      "text/html": [
       "<div>\n",
       "<style scoped>\n",
       "    .dataframe tbody tr th:only-of-type {\n",
       "        vertical-align: middle;\n",
       "    }\n",
       "\n",
       "    .dataframe tbody tr th {\n",
       "        vertical-align: top;\n",
       "    }\n",
       "\n",
       "    .dataframe thead th {\n",
       "        text-align: right;\n",
       "    }\n",
       "</style>\n",
       "<table border=\"1\" class=\"dataframe\">\n",
       "  <thead>\n",
       "    <tr style=\"text-align: right;\">\n",
       "      <th></th>\n",
       "      <th>id</th>\n",
       "      <th>qid1</th>\n",
       "      <th>qid2</th>\n",
       "      <th>question1</th>\n",
       "      <th>question2</th>\n",
       "      <th>is_duplicate</th>\n",
       "    </tr>\n",
       "  </thead>\n",
       "  <tbody>\n",
       "    <tr>\n",
       "      <th>1283</th>\n",
       "      <td>1283</td>\n",
       "      <td>2558</td>\n",
       "      <td>2559</td>\n",
       "      <td>Why do I not lose weight when I throw up?</td>\n",
       "      <td>What are the best ways to lose weight?</td>\n",
       "      <td>0</td>\n",
       "    </tr>\n",
       "    <tr>\n",
       "      <th>2290</th>\n",
       "      <td>2290</td>\n",
       "      <td>4554</td>\n",
       "      <td>2559</td>\n",
       "      <td>Is it possible to reduce 17 lbs in one month?</td>\n",
       "      <td>What are the best ways to lose weight?</td>\n",
       "      <td>0</td>\n",
       "    </tr>\n",
       "    <tr>\n",
       "      <th>8765</th>\n",
       "      <td>8765</td>\n",
       "      <td>9036</td>\n",
       "      <td>2559</td>\n",
       "      <td>What is the quickest possible way to lose weight?</td>\n",
       "      <td>What are the best ways to lose weight?</td>\n",
       "      <td>0</td>\n",
       "    </tr>\n",
       "    <tr>\n",
       "      <th>9001</th>\n",
       "      <td>9001</td>\n",
       "      <td>17518</td>\n",
       "      <td>2559</td>\n",
       "      <td>How can I gain weight within 2 month?</td>\n",
       "      <td>What are the best ways to lose weight?</td>\n",
       "      <td>0</td>\n",
       "    </tr>\n",
       "    <tr>\n",
       "      <th>12247</th>\n",
       "      <td>12247</td>\n",
       "      <td>23609</td>\n",
       "      <td>2559</td>\n",
       "      <td>Can I loose my weight around 10kg in 25 days?</td>\n",
       "      <td>What are the best ways to lose weight?</td>\n",
       "      <td>0</td>\n",
       "    </tr>\n",
       "  </tbody>\n",
       "</table>\n",
       "</div>"
      ],
      "text/plain": [
       "          id   qid1  qid2                                          question1  \\\n",
       "1283    1283   2558  2559          Why do I not lose weight when I throw up?   \n",
       "2290    2290   4554  2559      Is it possible to reduce 17 lbs in one month?   \n",
       "8765    8765   9036  2559  What is the quickest possible way to lose weight?   \n",
       "9001    9001  17518  2559              How can I gain weight within 2 month?   \n",
       "12247  12247  23609  2559      Can I loose my weight around 10kg in 25 days?   \n",
       "\n",
       "                                    question2  is_duplicate  \n",
       "1283   What are the best ways to lose weight?             0  \n",
       "2290   What are the best ways to lose weight?             0  \n",
       "8765   What are the best ways to lose weight?             0  \n",
       "9001   What are the best ways to lose weight?             0  \n",
       "12247  What are the best ways to lose weight?             0  "
      ]
     },
     "execution_count": 45,
     "metadata": {},
     "output_type": "execute_result"
    }
   ],
   "source": [
    "quora2[(quora2['qid1'] == 2559) | (quora2['qid2'] == 2559)].head()\n",
    "\n",
    "# \"What are the best ways to lose weight?\""
   ]
  },
  {
   "cell_type": "markdown",
   "metadata": {},
   "source": [
    "Question #2 (67 occurrences)"
   ]
  },
  {
   "cell_type": "code",
   "execution_count": 46,
   "metadata": {},
   "outputs": [
    {
     "data": {
      "text/html": [
       "<div>\n",
       "<style scoped>\n",
       "    .dataframe tbody tr th:only-of-type {\n",
       "        vertical-align: middle;\n",
       "    }\n",
       "\n",
       "    .dataframe tbody tr th {\n",
       "        vertical-align: top;\n",
       "    }\n",
       "\n",
       "    .dataframe thead th {\n",
       "        text-align: right;\n",
       "    }\n",
       "</style>\n",
       "<table border=\"1\" class=\"dataframe\">\n",
       "  <thead>\n",
       "    <tr style=\"text-align: right;\">\n",
       "      <th></th>\n",
       "      <th>id</th>\n",
       "      <th>qid1</th>\n",
       "      <th>qid2</th>\n",
       "      <th>question1</th>\n",
       "      <th>question2</th>\n",
       "      <th>is_duplicate</th>\n",
       "    </tr>\n",
       "  </thead>\n",
       "  <tbody>\n",
       "    <tr>\n",
       "      <th>16138</th>\n",
       "      <td>16138</td>\n",
       "      <td>30781</td>\n",
       "      <td>30782</td>\n",
       "      <td>If I link my Instagram account to my Facebook ...</td>\n",
       "      <td>How can you look at someone's private Instagra...</td>\n",
       "      <td>0</td>\n",
       "    </tr>\n",
       "    <tr>\n",
       "      <th>16183</th>\n",
       "      <td>16183</td>\n",
       "      <td>30866</td>\n",
       "      <td>30782</td>\n",
       "      <td>Can you view pictures on Instagram without an ...</td>\n",
       "      <td>How can you look at someone's private Instagra...</td>\n",
       "      <td>0</td>\n",
       "    </tr>\n",
       "    <tr>\n",
       "      <th>17232</th>\n",
       "      <td>17232</td>\n",
       "      <td>32775</td>\n",
       "      <td>30782</td>\n",
       "      <td>How many Oriya girls wear mini skirts?</td>\n",
       "      <td>How can you look at someone's private Instagra...</td>\n",
       "      <td>0</td>\n",
       "    </tr>\n",
       "    <tr>\n",
       "      <th>20239</th>\n",
       "      <td>20239</td>\n",
       "      <td>38203</td>\n",
       "      <td>30782</td>\n",
       "      <td>Why did Symbian fail?</td>\n",
       "      <td>How can you look at someone's private Instagra...</td>\n",
       "      <td>0</td>\n",
       "    </tr>\n",
       "    <tr>\n",
       "      <th>22376</th>\n",
       "      <td>22376</td>\n",
       "      <td>41999</td>\n",
       "      <td>30782</td>\n",
       "      <td>How do I see followers on someone's private In...</td>\n",
       "      <td>How can you look at someone's private Instagra...</td>\n",
       "      <td>0</td>\n",
       "    </tr>\n",
       "  </tbody>\n",
       "</table>\n",
       "</div>"
      ],
      "text/plain": [
       "          id   qid1   qid2                                          question1  \\\n",
       "16138  16138  30781  30782  If I link my Instagram account to my Facebook ...   \n",
       "16183  16183  30866  30782  Can you view pictures on Instagram without an ...   \n",
       "17232  17232  32775  30782             How many Oriya girls wear mini skirts?   \n",
       "20239  20239  38203  30782                              Why did Symbian fail?   \n",
       "22376  22376  41999  30782  How do I see followers on someone's private In...   \n",
       "\n",
       "                                               question2  is_duplicate  \n",
       "16138  How can you look at someone's private Instagra...             0  \n",
       "16183  How can you look at someone's private Instagra...             0  \n",
       "17232  How can you look at someone's private Instagra...             0  \n",
       "20239  How can you look at someone's private Instagra...             0  \n",
       "22376  How can you look at someone's private Instagra...             0  "
      ]
     },
     "execution_count": 46,
     "metadata": {},
     "output_type": "execute_result"
    }
   ],
   "source": [
    "quora2[(quora2['qid1'] == 30782) | (quora2['qid2'] == 30782)].head()"
   ]
  },
  {
   "cell_type": "code",
   "execution_count": 47,
   "metadata": {},
   "outputs": [
    {
     "data": {
      "text/plain": [
       "\"How can you look at someone's private Instagram account without following them?\""
      ]
     },
     "execution_count": 47,
     "metadata": {},
     "output_type": "execute_result"
    }
   ],
   "source": [
    "quora2[(quora2['qid1'] == 30782) | (quora2['qid2'] == 30782)].iloc[0, -2]"
   ]
  },
  {
   "cell_type": "markdown",
   "metadata": {},
   "source": [
    "Question #3 (56 occurrences)"
   ]
  },
  {
   "cell_type": "code",
   "execution_count": 48,
   "metadata": {},
   "outputs": [
    {
     "data": {
      "text/html": [
       "<div>\n",
       "<style scoped>\n",
       "    .dataframe tbody tr th:only-of-type {\n",
       "        vertical-align: middle;\n",
       "    }\n",
       "\n",
       "    .dataframe tbody tr th {\n",
       "        vertical-align: top;\n",
       "    }\n",
       "\n",
       "    .dataframe thead th {\n",
       "        text-align: right;\n",
       "    }\n",
       "</style>\n",
       "<table border=\"1\" class=\"dataframe\">\n",
       "  <thead>\n",
       "    <tr style=\"text-align: right;\">\n",
       "      <th></th>\n",
       "      <th>id</th>\n",
       "      <th>qid1</th>\n",
       "      <th>qid2</th>\n",
       "      <th>question1</th>\n",
       "      <th>question2</th>\n",
       "      <th>is_duplicate</th>\n",
       "    </tr>\n",
       "  </thead>\n",
       "  <tbody>\n",
       "    <tr>\n",
       "      <th>2032</th>\n",
       "      <td>2032</td>\n",
       "      <td>4043</td>\n",
       "      <td>4044</td>\n",
       "      <td>What are some ways to lose 25 pounds in one mo...</td>\n",
       "      <td>How can I lose weight quickly?</td>\n",
       "      <td>0</td>\n",
       "    </tr>\n",
       "    <tr>\n",
       "      <th>5567</th>\n",
       "      <td>5567</td>\n",
       "      <td>10946</td>\n",
       "      <td>4044</td>\n",
       "      <td>How could I gain weight quickly?</td>\n",
       "      <td>How can I lose weight quickly?</td>\n",
       "      <td>0</td>\n",
       "    </tr>\n",
       "    <tr>\n",
       "      <th>6665</th>\n",
       "      <td>6665</td>\n",
       "      <td>13049</td>\n",
       "      <td>4044</td>\n",
       "      <td>How do I lose body fat quickly?</td>\n",
       "      <td>How can I lose weight quickly?</td>\n",
       "      <td>1</td>\n",
       "    </tr>\n",
       "    <tr>\n",
       "      <th>11236</th>\n",
       "      <td>11236</td>\n",
       "      <td>21716</td>\n",
       "      <td>4044</td>\n",
       "      <td>How can I lose 15 kilos in one month?</td>\n",
       "      <td>How can I lose weight quickly?</td>\n",
       "      <td>0</td>\n",
       "    </tr>\n",
       "    <tr>\n",
       "      <th>11993</th>\n",
       "      <td>11993</td>\n",
       "      <td>4044</td>\n",
       "      <td>20607</td>\n",
       "      <td>How can I lose weight quickly?</td>\n",
       "      <td>How can someone lose weight quickly?</td>\n",
       "      <td>1</td>\n",
       "    </tr>\n",
       "  </tbody>\n",
       "</table>\n",
       "</div>"
      ],
      "text/plain": [
       "          id   qid1   qid2                                          question1  \\\n",
       "2032    2032   4043   4044  What are some ways to lose 25 pounds in one mo...   \n",
       "5567    5567  10946   4044                   How could I gain weight quickly?   \n",
       "6665    6665  13049   4044                    How do I lose body fat quickly?   \n",
       "11236  11236  21716   4044              How can I lose 15 kilos in one month?   \n",
       "11993  11993   4044  20607                     How can I lose weight quickly?   \n",
       "\n",
       "                                  question2  is_duplicate  \n",
       "2032         How can I lose weight quickly?             0  \n",
       "5567         How can I lose weight quickly?             0  \n",
       "6665         How can I lose weight quickly?             1  \n",
       "11236        How can I lose weight quickly?             0  \n",
       "11993  How can someone lose weight quickly?             1  "
      ]
     },
     "execution_count": 48,
     "metadata": {},
     "output_type": "execute_result"
    }
   ],
   "source": [
    "quora2[(quora2['qid1'] == 4044) | (quora2['qid2'] == 4044)].head()\n",
    "\n",
    "# \"How can I lose weight quickly?\""
   ]
  },
  {
   "cell_type": "markdown",
   "metadata": {},
   "source": [
    "Question #4 (45 occurrences)"
   ]
  },
  {
   "cell_type": "code",
   "execution_count": 49,
   "metadata": {},
   "outputs": [
    {
     "data": {
      "text/html": [
       "<div>\n",
       "<style scoped>\n",
       "    .dataframe tbody tr th:only-of-type {\n",
       "        vertical-align: middle;\n",
       "    }\n",
       "\n",
       "    .dataframe tbody tr th {\n",
       "        vertical-align: top;\n",
       "    }\n",
       "\n",
       "    .dataframe thead th {\n",
       "        text-align: right;\n",
       "    }\n",
       "</style>\n",
       "<table border=\"1\" class=\"dataframe\">\n",
       "  <thead>\n",
       "    <tr style=\"text-align: right;\">\n",
       "      <th></th>\n",
       "      <th>id</th>\n",
       "      <th>qid1</th>\n",
       "      <th>qid2</th>\n",
       "      <th>question1</th>\n",
       "      <th>question2</th>\n",
       "      <th>is_duplicate</th>\n",
       "    </tr>\n",
       "  </thead>\n",
       "  <tbody>\n",
       "    <tr>\n",
       "      <th>7357</th>\n",
       "      <td>7357</td>\n",
       "      <td>14375</td>\n",
       "      <td>14376</td>\n",
       "      <td>How do I make money using Instagram?</td>\n",
       "      <td>Can you see who views your Instagram?</td>\n",
       "      <td>0</td>\n",
       "    </tr>\n",
       "    <tr>\n",
       "      <th>18838</th>\n",
       "      <td>18838</td>\n",
       "      <td>35653</td>\n",
       "      <td>14376</td>\n",
       "      <td>Does it appear in your news feed when you chan...</td>\n",
       "      <td>Can you see who views your Instagram?</td>\n",
       "      <td>0</td>\n",
       "    </tr>\n",
       "    <tr>\n",
       "      <th>22967</th>\n",
       "      <td>22967</td>\n",
       "      <td>43066</td>\n",
       "      <td>14376</td>\n",
       "      <td>Porn addiction: Can it confuse your sexuality?</td>\n",
       "      <td>Can you see who views your Instagram?</td>\n",
       "      <td>0</td>\n",
       "    </tr>\n",
       "    <tr>\n",
       "      <th>32835</th>\n",
       "      <td>32835</td>\n",
       "      <td>14376</td>\n",
       "      <td>47683</td>\n",
       "      <td>Can you see who views your Instagram?</td>\n",
       "      <td>Can you see who views your Instagram stories?</td>\n",
       "      <td>1</td>\n",
       "    </tr>\n",
       "    <tr>\n",
       "      <th>37009</th>\n",
       "      <td>37009</td>\n",
       "      <td>67406</td>\n",
       "      <td>14376</td>\n",
       "      <td>New Yorkers - Do you like the English?</td>\n",
       "      <td>Can you see who views your Instagram?</td>\n",
       "      <td>0</td>\n",
       "    </tr>\n",
       "  </tbody>\n",
       "</table>\n",
       "</div>"
      ],
      "text/plain": [
       "          id   qid1   qid2                                          question1  \\\n",
       "7357    7357  14375  14376               How do I make money using Instagram?   \n",
       "18838  18838  35653  14376  Does it appear in your news feed when you chan...   \n",
       "22967  22967  43066  14376     Porn addiction: Can it confuse your sexuality?   \n",
       "32835  32835  14376  47683              Can you see who views your Instagram?   \n",
       "37009  37009  67406  14376             New Yorkers - Do you like the English?   \n",
       "\n",
       "                                           question2  is_duplicate  \n",
       "7357           Can you see who views your Instagram?             0  \n",
       "18838          Can you see who views your Instagram?             0  \n",
       "22967          Can you see who views your Instagram?             0  \n",
       "32835  Can you see who views your Instagram stories?             1  \n",
       "37009          Can you see who views your Instagram?             0  "
      ]
     },
     "execution_count": 49,
     "metadata": {},
     "output_type": "execute_result"
    }
   ],
   "source": [
    "quora2[(quora2['qid1'] == 14376) | (quora2['qid2'] == 14376)].head()\n",
    "\n",
    "# \"Can you see who views your Instagram?\""
   ]
  },
  {
   "cell_type": "markdown",
   "metadata": {},
   "source": [
    "Question #5 (45 occurrences)"
   ]
  },
  {
   "cell_type": "code",
   "execution_count": 50,
   "metadata": {},
   "outputs": [
    {
     "data": {
      "text/html": [
       "<div>\n",
       "<style scoped>\n",
       "    .dataframe tbody tr th:only-of-type {\n",
       "        vertical-align: middle;\n",
       "    }\n",
       "\n",
       "    .dataframe tbody tr th {\n",
       "        vertical-align: top;\n",
       "    }\n",
       "\n",
       "    .dataframe thead th {\n",
       "        text-align: right;\n",
       "    }\n",
       "</style>\n",
       "<table border=\"1\" class=\"dataframe\">\n",
       "  <thead>\n",
       "    <tr style=\"text-align: right;\">\n",
       "      <th></th>\n",
       "      <th>id</th>\n",
       "      <th>qid1</th>\n",
       "      <th>qid2</th>\n",
       "      <th>question1</th>\n",
       "      <th>question2</th>\n",
       "      <th>is_duplicate</th>\n",
       "    </tr>\n",
       "  </thead>\n",
       "  <tbody>\n",
       "    <tr>\n",
       "      <th>1284</th>\n",
       "      <td>1284</td>\n",
       "      <td>2560</td>\n",
       "      <td>2561</td>\n",
       "      <td>How can I make money online in India?</td>\n",
       "      <td>What's the easiest way to make money online?</td>\n",
       "      <td>0</td>\n",
       "    </tr>\n",
       "    <tr>\n",
       "      <th>4180</th>\n",
       "      <td>4180</td>\n",
       "      <td>8268</td>\n",
       "      <td>2561</td>\n",
       "      <td>How can I make money online for free?</td>\n",
       "      <td>What's the easiest way to make money online?</td>\n",
       "      <td>0</td>\n",
       "    </tr>\n",
       "    <tr>\n",
       "      <th>10659</th>\n",
       "      <td>10659</td>\n",
       "      <td>20628</td>\n",
       "      <td>2561</td>\n",
       "      <td>What should I do to earn money online?</td>\n",
       "      <td>What's the easiest way to make money online?</td>\n",
       "      <td>1</td>\n",
       "    </tr>\n",
       "    <tr>\n",
       "      <th>19667</th>\n",
       "      <td>19667</td>\n",
       "      <td>6438</td>\n",
       "      <td>2561</td>\n",
       "      <td>How can I make money online for job?</td>\n",
       "      <td>What's the easiest way to make money online?</td>\n",
       "      <td>1</td>\n",
       "    </tr>\n",
       "    <tr>\n",
       "      <th>21776</th>\n",
       "      <td>21776</td>\n",
       "      <td>40959</td>\n",
       "      <td>2561</td>\n",
       "      <td>What are some ways to make money from home?</td>\n",
       "      <td>What's the easiest way to make money online?</td>\n",
       "      <td>0</td>\n",
       "    </tr>\n",
       "  </tbody>\n",
       "</table>\n",
       "</div>"
      ],
      "text/plain": [
       "          id   qid1  qid2                                    question1  \\\n",
       "1284    1284   2560  2561        How can I make money online in India?   \n",
       "4180    4180   8268  2561        How can I make money online for free?   \n",
       "10659  10659  20628  2561       What should I do to earn money online?   \n",
       "19667  19667   6438  2561         How can I make money online for job?   \n",
       "21776  21776  40959  2561  What are some ways to make money from home?   \n",
       "\n",
       "                                          question2  is_duplicate  \n",
       "1284   What's the easiest way to make money online?             0  \n",
       "4180   What's the easiest way to make money online?             0  \n",
       "10659  What's the easiest way to make money online?             1  \n",
       "19667  What's the easiest way to make money online?             1  \n",
       "21776  What's the easiest way to make money online?             0  "
      ]
     },
     "execution_count": 50,
     "metadata": {},
     "output_type": "execute_result"
    }
   ],
   "source": [
    "quora2[(quora2['qid1'] == 2561) | (quora2['qid2'] == 2561)].head()\n",
    "\n",
    "# \"What's the easiest way to make money online?\""
   ]
  },
  {
   "cell_type": "markdown",
   "metadata": {},
   "source": [
    "#### The notebook quora_model.ipynb includes the next steps - data preprocessing and modeling."
   ]
  }
 ],
 "metadata": {
  "interpreter": {
   "hash": "a698be0b48003a334c31a3f8e5600c0b8c4ac4b13c41f594d6ef3259800b67f3"
  },
  "kernelspec": {
   "display_name": "Python 3.8.12 64-bit ('bootcamp_env': conda)",
   "language": "python",
   "name": "python3"
  },
  "language_info": {
   "codemirror_mode": {
    "name": "ipython",
    "version": 3
   },
   "file_extension": ".py",
   "mimetype": "text/x-python",
   "name": "python",
   "nbconvert_exporter": "python",
   "pygments_lexer": "ipython3",
   "version": "3.8.12"
  },
  "orig_nbformat": 4
 },
 "nbformat": 4,
 "nbformat_minor": 2
}
